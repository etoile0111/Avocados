{
  "nbformat": 4,
  "nbformat_minor": 0,
  "metadata": {
    "colab": {
      "name": "Untitled",
      "provenance": [],
      "collapsed_sections": [],
      "authorship_tag": "ABX9TyM87YarHRDV203patzEtfgu",
      "include_colab_link": true
    },
    "kernelspec": {
      "name": "python3",
      "display_name": "Python 3"
    }
  },
  "cells": [
    {
      "cell_type": "markdown",
      "metadata": {
        "id": "view-in-github",
        "colab_type": "text"
      },
      "source": [
        "<a href=\"https://colab.research.google.com/github/etoile0111/Avocados/blob/master/1%EC%A3%BC%EC%B0%A8%20%EA%B3%BC%EC%A0%9C.ipynb\" target=\"_parent\"><img src=\"https://colab.research.google.com/assets/colab-badge.svg\" alt=\"Open In Colab\"/></a>"
      ]
    },
    {
      "cell_type": "markdown",
      "metadata": {
        "id": "9RAkAJYgqzew",
        "colab_type": "text"
      },
      "source": [
        "# **인공지능 사관학교 프리코스 과제**"
      ]
    },
    {
      "cell_type": "markdown",
      "metadata": {
        "id": "6ppAts60FsBu",
        "colab_type": "text"
      },
      "source": [
        "##1주차 과제\n",
        "---\n",
        "\n"
      ]
    },
    {
      "cell_type": "markdown",
      "metadata": {
        "id": "2py478rUSzOR",
        "colab_type": "text"
      },
      "source": [
        "  ## 1. 언어 인공지능 - 마이크로소프트 신경망기반 번역과 자연어 처리 서비스 'LUIS'\n",
        "   <img src=\"https://i.ytimg.com/vi/ppadVeLc3TI/maxresdefault.jpg\" width=\"350\" height=\"\"></img>\n",
        "\n",
        "- 인공지능과 머신러닝을 기반의 신경망기반 번역 서비스\n",
        "- 2016년 공개되어 기존 통계 기반의 기계번역을 대체\n",
        "- 19가지 언어를 지원(한국어는 2017년 지원시작)\n",
        "- Microsoft Translator 및 Skype의 실시간 번역에 적용\n",
        "- 개발자에게 API를 무료로 제공\n",
        "- 자연어 처리 서비스 'LUIS'는 언어의 의도와 실체를 파악해 처리\n",
        "- 많은 문장과 음성 학습을 통해 AI챗봇 출시\n",
        "- 국내에서는 아시아나항공이 'LUIS'를 통해 챗봇 서비스 구축\n",
        "\n",
        "\n",
        "\n",
        "\n"
      ]
    },
    {
      "cell_type": "markdown",
      "metadata": {
        "id": "ZpAWO6sBTja9",
        "colab_type": "text"
      },
      "source": [
        "## 2. 음성 인공지능 - 구글 어시스턴트\n",
        "   <img src=\"https://images.squarespace-cdn.com/content/v1/59937b8f2994cae8c280ca6c/1543349932389-4XZZQZRMOY8DASVR6965/ke17ZwdGBToddI8pDm48kKm5kEwr7jImNoUCRzDBtBBZw-zPPgdn4jUwVcJE1ZvWQUxwkmyExglNqGp0IvTJZUJFbgE-7XRK3dMEBRBhUpxmgbnfBk2C__lsZxmKmp0Uq0IwcExHtlXeZMIMB5UDeaoruQ8pahX8ViMixsCYklY/Yonomi+-+Google+Assistant+Logo.png\" width=\"350\" height=\"\"></img>\n",
        "\n",
        "- 2016년 5월 공개, 기존의 구글 'Now'와 달리 양방향 대화 가능 서비스\n",
        "- 구글 'Now'의 음성 분석, 인식 기능을 통해 축적된 데이터를 기반으로 제작\n",
        "- 스마트폰 뿐만 아니라 안드로이드, ios기반의 스마트 디바이스, 생활가전, 자동차에 적용해 다양한 처리 수행가능\n",
        "- 자연어, 음성 학습 및 처리를 통한 실시간 통역 서비스를 제공"
      ]
    },
    {
      "cell_type": "markdown",
      "metadata": {
        "id": "lSHDkJCMTj2W",
        "colab_type": "text"
      },
      "source": [
        "## 3. 이미지 인공지능 - 의료용 알고리즘 ‘CheXNeXt’\n",
        "- 2018년 미국 스탠포드대, 듀크대, 콜로라도대 공동연구팀 개발\n",
        "- 흉부 X-lay 이미지를 통해 폐 관련 질환 진단\n",
        "- 3만여명 환자의 11만 2천 장에 이르는 X-lay 영상을 훈련\n",
        "- 폐 관련 14가지 질환의 이미지를 매핑해 새로운 이미지에서 질환 가능성 검출\n",
        "-  'CheXNeXt'는 방사선 전문의보다 높은 정확도를 보였으며, 전문의가 420개의 X-lay 사진을 분류하는데 걸리는 시간인(평균 240분)보다 압도적으로 빠른 1.5분의 시간이 걸렸음"
      ]
    },
    {
      "cell_type": "markdown",
      "metadata": {
        "id": "aKFjZyzoGk0R",
        "colab_type": "text"
      },
      "source": [
        "## 4. 자율주행 인공지능 - 테슬라 오토파일럿\n",
        "   <img src=\"https://logo-logos.com/wp-content/uploads/2018/02/elon-musk-jokes.jpg\" width=\"350\" height=\"\"></img>\n",
        "\n",
        "- 테슬라는 카메라를 주로 활용하고 신경망을 소극적으로 사용한 1.0코드에서 내부 신경망 인공지능을 적극적으로 사용하는 2.0 코드로 대체(Autopilot Rewrite)\n",
        "- 기존 1.0 코드에서는 카메라를 이용한 2D 이미지를 통해 도로의 조감도를 제작해 주행중인 차량에서 획득되는 이미지와 GPS를 통해 주행\n",
        "- 코드 2.0은 도로의 경계, 교통흐름, 교통량을 이용해 기존 코드 1.0의 자료를 포함한 신경망 학습 이를 통해 카메라의 사각지대를 예측해 주행가능\n",
        "- 'AL Stack'을 통해 전세계 100만대 가량의 자사 판매 차량을 통해서 데이터 수집, 학습\n",
        "- 'HydraNet'을 통해 기반이 되는 'Backbone'위에 작은 신경망을 올리는 형태를 통해 학습\n",
        "\n",
        "\n"
      ]
    }
  ]
}